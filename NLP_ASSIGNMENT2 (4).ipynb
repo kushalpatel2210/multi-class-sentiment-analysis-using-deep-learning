{
  "nbformat": 4,
  "nbformat_minor": 0,
  "metadata": {
    "colab": {
      "name": "NLP_ASSIGNMENT2.ipynb",
      "provenance": [],
      "collapsed_sections": [],
      "toc_visible": true
    },
    "kernelspec": {
      "name": "python3",
      "display_name": "Python 3"
    },
    "accelerator": "GPU"
  },
  "cells": [
    {
      "cell_type": "markdown",
      "metadata": {
        "id": "QZ0SB2fFsFo_",
        "colab_type": "text"
      },
      "source": [
        "Exploring The Data\n"
      ]
    },
    {
      "cell_type": "code",
      "metadata": {
        "id": "LOP2cPb4sQh8",
        "colab_type": "code",
        "outputId": "05a9b12a-3bbd-4f04-9e7f-4c6f39ab40ad",
        "colab": {
          "base_uri": "https://localhost:8080/",
          "height": 136
        }
      },
      "source": [
        "import pandas as pd\n",
        "from sklearn.model_selection import train_test_split\n",
        "import numpy as np\n",
        "import nltk\n",
        "nltk.download('punkt')\n",
        "nltk.download('stopwords')\n",
        "nltk.download('wordnet')\n"
      ],
      "execution_count": 463,
      "outputs": [
        {
          "output_type": "stream",
          "text": [
            "[nltk_data] Downloading package punkt to /root/nltk_data...\n",
            "[nltk_data]   Package punkt is already up-to-date!\n",
            "[nltk_data] Downloading package stopwords to /root/nltk_data...\n",
            "[nltk_data]   Package stopwords is already up-to-date!\n",
            "[nltk_data] Downloading package wordnet to /root/nltk_data...\n",
            "[nltk_data]   Package wordnet is already up-to-date!\n"
          ],
          "name": "stdout"
        },
        {
          "output_type": "execute_result",
          "data": {
            "text/plain": [
              "True"
            ]
          },
          "metadata": {
            "tags": []
          },
          "execution_count": 463
        }
      ]
    },
    {
      "cell_type": "markdown",
      "metadata": {
        "id": "U2v58zkxukjt",
        "colab_type": "text"
      },
      "source": [
        "Mount Drive"
      ]
    },
    {
      "cell_type": "code",
      "metadata": {
        "id": "tfqfcyqwufEK",
        "colab_type": "code",
        "outputId": "82a8a2d9-f29c-44d3-810f-aa990417e749",
        "colab": {
          "base_uri": "https://localhost:8080/",
          "height": 54
        }
      },
      "source": [
        "from google.colab import drive\n",
        "drive.mount('/content/drive')"
      ],
      "execution_count": 464,
      "outputs": [
        {
          "output_type": "stream",
          "text": [
            "Drive already mounted at /content/drive; to attempt to forcibly remount, call drive.mount(\"/content/drive\", force_remount=True).\n"
          ],
          "name": "stdout"
        }
      ]
    },
    {
      "cell_type": "markdown",
      "metadata": {
        "id": "zNNfqT8pwYtH",
        "colab_type": "text"
      },
      "source": [
        "Reading Dataset\n"
      ]
    },
    {
      "cell_type": "code",
      "metadata": {
        "id": "bFAPjTy-tksm",
        "colab_type": "code",
        "outputId": "aae9542c-b6c5-4778-e604-3b7ebc6ff86d",
        "colab": {
          "base_uri": "https://localhost:8080/",
          "height": 204
        }
      },
      "source": [
        "dataset =  pd.read_csv('/content/drive/My Drive/train.tsv', sep='\\t')\n",
        "dataset = dataset.dropna()\n",
        "dataset.head()"
      ],
      "execution_count": 465,
      "outputs": [
        {
          "output_type": "execute_result",
          "data": {
            "text/html": [
              "<div>\n",
              "<style scoped>\n",
              "    .dataframe tbody tr th:only-of-type {\n",
              "        vertical-align: middle;\n",
              "    }\n",
              "\n",
              "    .dataframe tbody tr th {\n",
              "        vertical-align: top;\n",
              "    }\n",
              "\n",
              "    .dataframe thead th {\n",
              "        text-align: right;\n",
              "    }\n",
              "</style>\n",
              "<table border=\"1\" class=\"dataframe\">\n",
              "  <thead>\n",
              "    <tr style=\"text-align: right;\">\n",
              "      <th></th>\n",
              "      <th>PhraseId</th>\n",
              "      <th>SentenceId</th>\n",
              "      <th>Phrase</th>\n",
              "      <th>Sentiment</th>\n",
              "    </tr>\n",
              "  </thead>\n",
              "  <tbody>\n",
              "    <tr>\n",
              "      <th>0</th>\n",
              "      <td>1</td>\n",
              "      <td>1</td>\n",
              "      <td>A series of escapades demonstrating the adage ...</td>\n",
              "      <td>1</td>\n",
              "    </tr>\n",
              "    <tr>\n",
              "      <th>1</th>\n",
              "      <td>2</td>\n",
              "      <td>1</td>\n",
              "      <td>A series of escapades demonstrating the adage ...</td>\n",
              "      <td>2</td>\n",
              "    </tr>\n",
              "    <tr>\n",
              "      <th>2</th>\n",
              "      <td>3</td>\n",
              "      <td>1</td>\n",
              "      <td>A series</td>\n",
              "      <td>2</td>\n",
              "    </tr>\n",
              "    <tr>\n",
              "      <th>3</th>\n",
              "      <td>4</td>\n",
              "      <td>1</td>\n",
              "      <td>A</td>\n",
              "      <td>2</td>\n",
              "    </tr>\n",
              "    <tr>\n",
              "      <th>4</th>\n",
              "      <td>5</td>\n",
              "      <td>1</td>\n",
              "      <td>series</td>\n",
              "      <td>2</td>\n",
              "    </tr>\n",
              "  </tbody>\n",
              "</table>\n",
              "</div>"
            ],
            "text/plain": [
              "   PhraseId  ...  Sentiment\n",
              "0         1  ...          1\n",
              "1         2  ...          2\n",
              "2         3  ...          2\n",
              "3         4  ...          2\n",
              "4         5  ...          2\n",
              "\n",
              "[5 rows x 4 columns]"
            ]
          },
          "metadata": {
            "tags": []
          },
          "execution_count": 465
        }
      ]
    },
    {
      "cell_type": "code",
      "metadata": {
        "id": "DBnd7GiNvr7X",
        "colab_type": "code",
        "outputId": "c02b4251-5473-4bf7-a0e4-e9a4a62d9ce5",
        "colab": {
          "base_uri": "https://localhost:8080/",
          "height": 34
        }
      },
      "source": [
        "dataset.shape"
      ],
      "execution_count": 466,
      "outputs": [
        {
          "output_type": "execute_result",
          "data": {
            "text/plain": [
              "(156060, 4)"
            ]
          },
          "metadata": {
            "tags": []
          },
          "execution_count": 466
        }
      ]
    },
    {
      "cell_type": "code",
      "metadata": {
        "id": "gK36cXc2vw4A",
        "colab_type": "code",
        "outputId": "f6022793-9e6d-40d1-b192-c6ef3ea70779",
        "colab": {
          "base_uri": "https://localhost:8080/",
          "height": 598
        }
      },
      "source": [
        "c = dict(dataset.Sentiment.value_counts())\n",
        "import matplotlib.pyplot as plt; plt.rcdefaults()\n",
        "import numpy as np\n",
        "import matplotlib.pyplot as plt\n",
        "import matplotlib.cm as cm\n",
        "from matplotlib.colors import Normalize\n",
        "from numpy.random import rand\n",
        "\n",
        "objects = ('0-negative ', ' 1-somewhat negative ', ' 2-neutral ', ' 3-somewhat positive ', ' 4-positive ')\n",
        "y_pos = np.arange(len(objects))\n",
        "performance = [c[0],c[1],c[2],c[3],c[4]]\n",
        "\n",
        "barlist = plt.bar(y_pos, performance, align='center')\n",
        "plt.xticks(y_pos, objects, rotation='vertical')\n",
        "plt.ylabel('Number of Entries')\n",
        "plt.title('Rotten Tomatoes Reviews')\n",
        "barlist[0].set_color('#000000')\n",
        "barlist[1].set_color('#000000')\n",
        "barlist[2].set_color('#000000')\n",
        "barlist[3].set_color('#000000')\n",
        "barlist[4].set_color('#000000')\n",
        "\n",
        "plt.show()\n",
        "\n"
      ],
      "execution_count": 467,
      "outputs": [
        {
          "output_type": "display_data",
          "data": {
            "image/png": "[encoded data removed]",
            "text/plain": [
              "<Figure size 640x480 with 1 Axes>"
            ]
          },
          "metadata": {
            "tags": []
          }
        }
      ]
    },
    {
      "cell_type": "markdown",
      "metadata": {
        "id": "XVUp6R5OxGFK",
        "colab_type": "text"
      },
      "source": [
        "Adjustable Parameters"
      ]
    },
    {
      "cell_type": "code",
      "metadata": {
        "id": "Uzyu99V_UvFI",
        "colab_type": "code",
        "colab": {}
      },
      "source": [
        "remove_fPunct = True\n",
        "fTokenizaton = True\n",
        "fStopwords = True\n",
        "fStemming = False\n",
        "fLemmatization = True\n"
      ],
      "execution_count": 0,
      "outputs": []
    },
    {
      "cell_type": "markdown",
      "metadata": {
        "id": "HKtODFJPVEPf",
        "colab_type": "text"
      },
      "source": [
        "Data Cleaning | Punctuations"
      ]
    },
    {
      "cell_type": "code",
      "metadata": {
        "id": "VXvOmk8F_fyb",
        "colab_type": "code",
        "outputId": "dae6e837-7c7d-4f42-f435-153d10fa82e9",
        "colab": {
          "base_uri": "https://localhost:8080/",
          "height": 34
        }
      },
      "source": [
        "import string\n",
        "print(string.punctuation)"
      ],
      "execution_count": 469,
      "outputs": [
        {
          "output_type": "stream",
          "text": [
            "!\"#$%&'()*+,-./:;<=>?@[\\]^_`{|}~\n"
          ],
          "name": "stdout"
        }
      ]
    },
    {
      "cell_type": "code",
      "metadata": {
        "id": "XN4KMFgCDAXs",
        "colab_type": "code",
        "colab": {}
      },
      "source": [
        "def remove_punctuation(text):\n",
        "  txt_nonpunct = \"\".join([a for a in text if a not in string.punctuation])\n",
        "  return txt_nonpunct "
      ],
      "execution_count": 0,
      "outputs": []
    },
    {
      "cell_type": "code",
      "metadata": {
        "id": "XRn28Jk_DYGn",
        "colab_type": "code",
        "colab": {}
      },
      "source": [
        "if remove_fPunct:\n",
        "  dataset['Phrase'] = dataset['Phrase'].apply(lambda x: remove_punctuation(x)) "
      ],
      "execution_count": 0,
      "outputs": []
    },
    {
      "cell_type": "markdown",
      "metadata": {
        "id": "-J_1XQfsFf9G",
        "colab_type": "text"
      },
      "source": [
        "Data Cleaning | Tokenization"
      ]
    },
    {
      "cell_type": "code",
      "metadata": {
        "id": "PbimWUGpFiOa",
        "colab_type": "code",
        "colab": {}
      },
      "source": [
        "import re\n",
        "\n",
        "def tokenize(text):\n",
        "  tokens = re.split('\\W+', text)\n",
        "  return tokens \n",
        "\n",
        "if fTokenizaton:\n",
        "  dataset['Phrase'] = dataset['Phrase'].apply(lambda x: tokenize(x.lower()))"
      ],
      "execution_count": 0,
      "outputs": []
    },
    {
      "cell_type": "markdown",
      "metadata": {
        "id": "HxMQGrRuHhse",
        "colab_type": "text"
      },
      "source": [
        "Data Cleaning | Stop Words"
      ]
    },
    {
      "cell_type": "code",
      "metadata": {
        "id": "ihAJokODHp_L",
        "colab_type": "code",
        "outputId": "5576f9a4-9db0-4e7c-92b2-3d4dda59b312",
        "colab": {
          "base_uri": "https://localhost:8080/",
          "height": 34
        }
      },
      "source": [
        "import nltk \n",
        "stopwords = nltk.corpus.stopwords.words('english')\n",
        "stopwords[0:10]"
      ],
      "execution_count": 473,
      "outputs": [
        {
          "output_type": "execute_result",
          "data": {
            "text/plain": [
              "['i', 'me', 'my', 'myself', 'we', 'our', 'ours', 'ourselves', 'you', \"you're\"]"
            ]
          },
          "metadata": {
            "tags": []
          },
          "execution_count": 473
        }
      ]
    },
    {
      "cell_type": "code",
      "metadata": {
        "id": "ZI3ZmGYJIB9c",
        "colab_type": "code",
        "colab": {}
      },
      "source": [
        "def remove_stopwords(txt_tokenized):\n",
        "  txt_clean = [word for word in txt_tokenized if word not in stopwords]\n",
        "  return txt_clean\n",
        "\n",
        "if fStopwords:\n",
        "  dataset['Phrase'] = dataset['Phrase'].apply(lambda x: remove_stopwords(x))"
      ],
      "execution_count": 0,
      "outputs": []
    },
    {
      "cell_type": "markdown",
      "metadata": {
        "id": "-ibpBZGoKV8V",
        "colab_type": "text"
      },
      "source": [
        "Data Cleaning | Stemming"
      ]
    },
    {
      "cell_type": "code",
      "metadata": {
        "id": "fV5IpZ6jKYlH",
        "colab_type": "code",
        "colab": {}
      },
      "source": [
        "\n",
        "from nltk.stem import PorterStemmer\n",
        "ps = PorterStemmer()"
      ],
      "execution_count": 0,
      "outputs": []
    },
    {
      "cell_type": "code",
      "metadata": {
        "id": "2uj82xnvRkuo",
        "colab_type": "code",
        "colab": {}
      },
      "source": [
        "def stemming(tokenized_text):\n",
        "  text = [ps.stem(word) for word in tokenized_text]\n",
        "  return text"
      ],
      "execution_count": 0,
      "outputs": []
    },
    {
      "cell_type": "code",
      "metadata": {
        "id": "JzILzo4UNcYM",
        "colab_type": "code",
        "colab": {}
      },
      "source": [
        "if fStemming:\n",
        "  dataset['Phrase'] = dataset['Phrase'].apply(lambda x: stemming(x))"
      ],
      "execution_count": 0,
      "outputs": []
    },
    {
      "cell_type": "markdown",
      "metadata": {
        "id": "R_YooGKsSA8P",
        "colab_type": "text"
      },
      "source": [
        "Data Cleaning | Lemmatization"
      ]
    },
    {
      "cell_type": "code",
      "metadata": {
        "id": "tfcWAnNxSERs",
        "colab_type": "code",
        "colab": {}
      },
      "source": [
        "wn = nltk.WordNetLemmatizer()\n",
        "ps = nltk.PorterStemmer()\n",
        "\n",
        "def lemmatization(token_txt):\n",
        "  text = [wn.lemmatize(word) for word in token_txt]\n",
        "  return text\n"
      ],
      "execution_count": 0,
      "outputs": []
    },
    {
      "cell_type": "code",
      "metadata": {
        "id": "q7NG1Jq8SGzC",
        "colab_type": "code",
        "colab": {}
      },
      "source": [
        "if fLemmatization:\n",
        "  dataset['Phrase'] = dataset['Phrase'].apply(lambda x: lemmatization(x))"
      ],
      "execution_count": 0,
      "outputs": []
    },
    {
      "cell_type": "code",
      "metadata": {
        "id": "XbNHQyTSWuiv",
        "colab_type": "code",
        "outputId": "da159192-4a17-4af5-b578-acecf7571bc1",
        "colab": {
          "base_uri": "https://localhost:8080/",
          "height": 204
        }
      },
      "source": [
        "dataset.head()"
      ],
      "execution_count": 480,
      "outputs": [
        {
          "output_type": "execute_result",
          "data": {
            "text/html": [
              "<div>\n",
              "<style scoped>\n",
              "    .dataframe tbody tr th:only-of-type {\n",
              "        vertical-align: middle;\n",
              "    }\n",
              "\n",
              "    .dataframe tbody tr th {\n",
              "        vertical-align: top;\n",
              "    }\n",
              "\n",
              "    .dataframe thead th {\n",
              "        text-align: right;\n",
              "    }\n",
              "</style>\n",
              "<table border=\"1\" class=\"dataframe\">\n",
              "  <thead>\n",
              "    <tr style=\"text-align: right;\">\n",
              "      <th></th>\n",
              "      <th>PhraseId</th>\n",
              "      <th>SentenceId</th>\n",
              "      <th>Phrase</th>\n",
              "      <th>Sentiment</th>\n",
              "    </tr>\n",
              "  </thead>\n",
              "  <tbody>\n",
              "    <tr>\n",
              "      <th>0</th>\n",
              "      <td>1</td>\n",
              "      <td>1</td>\n",
              "      <td>[series, escapade, demonstrating, adage, good,...</td>\n",
              "      <td>1</td>\n",
              "    </tr>\n",
              "    <tr>\n",
              "      <th>1</th>\n",
              "      <td>2</td>\n",
              "      <td>1</td>\n",
              "      <td>[series, escapade, demonstrating, adage, good,...</td>\n",
              "      <td>2</td>\n",
              "    </tr>\n",
              "    <tr>\n",
              "      <th>2</th>\n",
              "      <td>3</td>\n",
              "      <td>1</td>\n",
              "      <td>[series]</td>\n",
              "      <td>2</td>\n",
              "    </tr>\n",
              "    <tr>\n",
              "      <th>3</th>\n",
              "      <td>4</td>\n",
              "      <td>1</td>\n",
              "      <td>[]</td>\n",
              "      <td>2</td>\n",
              "    </tr>\n",
              "    <tr>\n",
              "      <th>4</th>\n",
              "      <td>5</td>\n",
              "      <td>1</td>\n",
              "      <td>[series]</td>\n",
              "      <td>2</td>\n",
              "    </tr>\n",
              "  </tbody>\n",
              "</table>\n",
              "</div>"
            ],
            "text/plain": [
              "   PhraseId  ...  Sentiment\n",
              "0         1  ...          1\n",
              "1         2  ...          2\n",
              "2         3  ...          2\n",
              "3         4  ...          2\n",
              "4         5  ...          2\n",
              "\n",
              "[5 rows x 4 columns]"
            ]
          },
          "metadata": {
            "tags": []
          },
          "execution_count": 480
        }
      ]
    },
    {
      "cell_type": "markdown",
      "metadata": {
        "id": "LblhFFl7eyxd",
        "colab_type": "text"
      },
      "source": [
        "Splitting The Dataset"
      ]
    },
    {
      "cell_type": "code",
      "metadata": {
        "id": "XebxMLR5hBoO",
        "colab_type": "code",
        "outputId": "1c3c000c-252b-4643-822b-6364c7ca075c",
        "colab": {
          "base_uri": "https://localhost:8080/",
          "height": 221
        }
      },
      "source": [
        "X_train, X_test, Y_train, Y_test = train_test_split(dataset['Phrase'], dataset['Sentiment'], test_size=0.3, random_state=2003)\n",
        "documents = []\n",
        "X_train = np.array(X_train.values.tolist())\n",
        "Y_train = np.array(Y_train.values.tolist())\n",
        "for i in range(len(X_train)):\n",
        "  documents.append([list(X_train[i]), Y_train[i]]) \n",
        "\n",
        "X_test = np.array(X_test.values.tolist())\n",
        "Y_test = np.array(Y_test.values.tolist())\n",
        "for i in range(len(X_test)):\n",
        "  documents.append([list(X_test[i]), Y_test[i]]) \n",
        "\n",
        "print(documents[0][0])\n",
        "dataset = pd.DataFrame(documents, columns=['text', 'sentiment']) \n",
        "dataset['join'] = dataset.text.apply(' '.join)\n",
        "dataset.head()"
      ],
      "execution_count": 481,
      "outputs": [
        {
          "output_type": "stream",
          "text": [
            "['age']\n"
          ],
          "name": "stdout"
        },
        {
          "output_type": "execute_result",
          "data": {
            "text/html": [
              "<div>\n",
              "<style scoped>\n",
              "    .dataframe tbody tr th:only-of-type {\n",
              "        vertical-align: middle;\n",
              "    }\n",
              "\n",
              "    .dataframe tbody tr th {\n",
              "        vertical-align: top;\n",
              "    }\n",
              "\n",
              "    .dataframe thead th {\n",
              "        text-align: right;\n",
              "    }\n",
              "</style>\n",
              "<table border=\"1\" class=\"dataframe\">\n",
              "  <thead>\n",
              "    <tr style=\"text-align: right;\">\n",
              "      <th></th>\n",
              "      <th>text</th>\n",
              "      <th>sentiment</th>\n",
              "      <th>join</th>\n",
              "    </tr>\n",
              "  </thead>\n",
              "  <tbody>\n",
              "    <tr>\n",
              "      <th>0</th>\n",
              "      <td>[age]</td>\n",
              "      <td>2</td>\n",
              "      <td>age</td>\n",
              "    </tr>\n",
              "    <tr>\n",
              "      <th>1</th>\n",
              "      <td>[gorgeous, epic]</td>\n",
              "      <td>4</td>\n",
              "      <td>gorgeous epic</td>\n",
              "    </tr>\n",
              "    <tr>\n",
              "      <th>2</th>\n",
              "      <td>[fan, grossout, comedy]</td>\n",
              "      <td>2</td>\n",
              "      <td>fan grossout comedy</td>\n",
              "    </tr>\n",
              "    <tr>\n",
              "      <th>3</th>\n",
              "      <td>[filmmaker, ascends, literally, olympus, art, ...</td>\n",
              "      <td>4</td>\n",
              "      <td>filmmaker ascends literally olympus art world</td>\n",
              "    </tr>\n",
              "    <tr>\n",
              "      <th>4</th>\n",
              "      <td>[twisting, mystery]</td>\n",
              "      <td>2</td>\n",
              "      <td>twisting mystery</td>\n",
              "    </tr>\n",
              "  </tbody>\n",
              "</table>\n",
              "</div>"
            ],
            "text/plain": [
              "                                                text  ...                                           join\n",
              "0                                              [age]  ...                                            age\n",
              "1                                   [gorgeous, epic]  ...                                  gorgeous epic\n",
              "2                            [fan, grossout, comedy]  ...                            fan grossout comedy\n",
              "3  [filmmaker, ascends, literally, olympus, art, ...  ...  filmmaker ascends literally olympus art world\n",
              "4                                [twisting, mystery]  ...                               twisting mystery\n",
              "\n",
              "[5 rows x 3 columns]"
            ]
          },
          "metadata": {
            "tags": []
          },
          "execution_count": 481
        }
      ]
    },
    {
      "cell_type": "markdown",
      "metadata": {
        "id": "8hU6pTs_B4ZW",
        "colab_type": "text"
      },
      "source": [
        ""
      ]
    },
    {
      "cell_type": "code",
      "metadata": {
        "id": "XxPION4LRazd",
        "colab_type": "code",
        "colab": {}
      },
      "source": [
        "X_train, X_test, Y_train, Y_test = train_test_split(dataset['join'],  dataset['sentiment'], test_size=0.3, random_state=2003)"
      ],
      "execution_count": 0,
      "outputs": []
    },
    {
      "cell_type": "code",
      "metadata": {
        "id": "WgA0Y2-401nv",
        "colab_type": "code",
        "colab": {}
      },
      "source": [
        "from sklearn.feature_extraction.text import CountVectorizer\n",
        "vectorizer = CountVectorizer(max_features = 2500)\n",
        "X = vectorizer.fit_transform(dataset[\"join\"])\n",
        "Y = dataset['sentiment']\n",
        "\n",
        "\n",
        "X_train = vectorizer.transform(X_train).toarray()\n",
        "Y_train = Y_train \n",
        "X_test = vectorizer.transform(X_test).toarray()\n",
        "Y_test = Y_test\n",
        "\n"
      ],
      "execution_count": 0,
      "outputs": []
    },
    {
      "cell_type": "code",
      "metadata": {
        "id": "dD4ZenB6Cx-B",
        "colab_type": "code",
        "outputId": "1ce7fe27-a5d5-4fc6-e002-b0d58797dcc0",
        "colab": {
          "base_uri": "https://localhost:8080/",
          "height": 221
        }
      },
      "source": [
        "Y_test"
      ],
      "execution_count": 484,
      "outputs": [
        {
          "output_type": "execute_result",
          "data": {
            "text/plain": [
              "13510     2\n",
              "61932     0\n",
              "82549     1\n",
              "137718    3\n",
              "121990    2\n",
              "         ..\n",
              "94224     2\n",
              "135456    2\n",
              "154729    1\n",
              "23031     1\n",
              "57870     2\n",
              "Name: sentiment, Length: 46818, dtype: int64"
            ]
          },
          "metadata": {
            "tags": []
          },
          "execution_count": 484
        }
      ]
    },
    {
      "cell_type": "code",
      "metadata": {
        "id": "zFwYA1tWwnhC",
        "colab_type": "code",
        "colab": {}
      },
      "source": [
        "import keras\n",
        "from keras.datasets import mnist\n",
        "from keras.models import Sequential\n",
        "from keras.layers import Dense, Dropout, Flatten\n",
        "from keras.layers import Conv1D, MaxPooling1D\n",
        "from keras import backend as K\n",
        "import matplotlib.pyplot as plt\n",
        "import numpy"
      ],
      "execution_count": 0,
      "outputs": []
    },
    {
      "cell_type": "markdown",
      "metadata": {
        "id": "1owiJVMm7Com",
        "colab_type": "text"
      },
      "source": [
        ""
      ]
    },
    {
      "cell_type": "code",
      "metadata": {
        "id": "3uj80Ku2Socv",
        "colab_type": "code",
        "outputId": "b4b31a45-bf9f-4617-9323-515aa2784b59",
        "colab": {
          "base_uri": "https://localhost:8080/",
          "height": 34
        }
      },
      "source": [
        "X_train.shape"
      ],
      "execution_count": 486,
      "outputs": [
        {
          "output_type": "execute_result",
          "data": {
            "text/plain": [
              "(109242, 2500)"
            ]
          },
          "metadata": {
            "tags": []
          },
          "execution_count": 486
        }
      ]
    },
    {
      "cell_type": "code",
      "metadata": {
        "id": "jBhO0wX0pg2d",
        "colab_type": "code",
        "outputId": "33d60dd1-1e49-4949-97af-f26b6281a98c",
        "colab": {
          "base_uri": "https://localhost:8080/",
          "height": 136
        }
      },
      "source": [
        "batch_size = 64\n",
        "num_classes = 5\n",
        "epochs = 20\n",
        "Y_train = keras.utils.to_categorical(Y_train, num_classes)\n",
        "Y_test = keras.utils.to_categorical(Y_test, num_classes)\n",
        "Y_test"
      ],
      "execution_count": 487,
      "outputs": [
        {
          "output_type": "execute_result",
          "data": {
            "text/plain": [
              "array([[0., 0., 1., 0., 0.],\n",
              "       [1., 0., 0., 0., 0.],\n",
              "       [0., 1., 0., 0., 0.],\n",
              "       ...,\n",
              "       [0., 1., 0., 0., 0.],\n",
              "       [0., 1., 0., 0., 0.],\n",
              "       [0., 0., 1., 0., 0.]], dtype=float32)"
            ]
          },
          "metadata": {
            "tags": []
          },
          "execution_count": 487
        }
      ]
    },
    {
      "cell_type": "code",
      "metadata": {
        "id": "0hHjUmvCe_2l",
        "colab_type": "code",
        "outputId": "288aa4fb-fc22-4309-b53a-2c71972ebeec",
        "colab": {
          "base_uri": "https://localhost:8080/",
          "height": 442
        }
      },
      "source": [
        "model = Sequential()\n",
        "model.add(Conv1D(filters=64, kernel_size=1,\n",
        "                  activation='relu',\n",
        "                  input_shape=(2500,1)))\n",
        "model.add(Conv1D(filters=64, kernel_size=1, activation='relu'))\n",
        "model.add(Conv1D(filters=32, kernel_size=1, activation='relu'))\n",
        "model.add(MaxPooling1D(pool_size=1))\n",
        "model.add(Dropout(rate = 0.1))\n",
        "model.add(Flatten())\n",
        "model.add(Dense(32, activation='relu'))\n",
        "model.add(Dense(num_classes, activation='softmax'))\n",
        "print(model.summary())"
      ],
      "execution_count": 488,
      "outputs": [
        {
          "output_type": "stream",
          "text": [
            "Model: \"sequential_19\"\n",
            "_________________________________________________________________\n",
            "Layer (type)                 Output Shape              Param #   \n",
            "=================================================================\n",
            "conv1d_55 (Conv1D)           (None, 2500, 64)          128       \n",
            "_________________________________________________________________\n",
            "conv1d_56 (Conv1D)           (None, 2500, 64)          4160      \n",
            "_________________________________________________________________\n",
            "conv1d_57 (Conv1D)           (None, 2500, 32)          2080      \n",
            "_________________________________________________________________\n",
            "max_pooling1d_19 (MaxPooling (None, 2500, 32)          0         \n",
            "_________________________________________________________________\n",
            "dropout_19 (Dropout)         (None, 2500, 32)          0         \n",
            "_________________________________________________________________\n",
            "flatten_19 (Flatten)         (None, 80000)             0         \n",
            "_________________________________________________________________\n",
            "dense_34 (Dense)             (None, 32)                2560032   \n",
            "_________________________________________________________________\n",
            "dense_35 (Dense)             (None, 5)                 165       \n",
            "=================================================================\n",
            "Total params: 2,566,565\n",
            "Trainable params: 2,566,565\n",
            "Non-trainable params: 0\n",
            "_________________________________________________________________\n",
            "None\n"
          ],
          "name": "stdout"
        }
      ]
    },
    {
      "cell_type": "code",
      "metadata": {
        "id": "re4qdVOifhJU",
        "colab_type": "code",
        "colab": {}
      },
      "source": [
        "model.compile(loss=keras.losses.categorical_crossentropy,optimizer=keras.optimizers.Adam(),metrics=['accuracy'])\n"
      ],
      "execution_count": 0,
      "outputs": []
    },
    {
      "cell_type": "code",
      "metadata": {
        "id": "3qT0r3A2S11M",
        "colab_type": "code",
        "colab": {}
      },
      "source": [
        "from keras import backend as K\n",
        "\n",
        "def recall_m(y_true, y_pred):\n",
        "    true_positives = K.sum(K.round(K.clip(y_true * y_pred, 0, 1)))\n",
        "    possible_positives = K.sum(K.round(K.clip(y_true, 0, 1)))\n",
        "    recall = true_positives / (possible_positives + K.epsilon())\n",
        "    return recall\n",
        "\n",
        "def precision_m(y_true, y_pred):\n",
        "    true_positives = K.sum(K.round(K.clip(y_true * y_pred, 0, 1)))\n",
        "    predicted_positives = K.sum(K.round(K.clip(y_pred, 0, 1)))\n",
        "    precision = true_positives / (predicted_positives + K.epsilon())\n",
        "    return precision\n",
        "\n",
        "def f1_m(y_true, y_pred):\n",
        "    precision = precision_m(y_true, y_pred)\n",
        "    recall = recall_m(y_true, y_pred)\n",
        "    return 2*((precision*recall)/(precision+recall+K.epsilon()))\n",
        "\n",
        "\n",
        "model.compile(loss=keras.losses.categorical_crossentropy,\n",
        "              optimizer=keras.optimizers.Adadelta(),\n",
        "              metrics=['accuracy',f1_m,precision_m,recall_m])"
      ],
      "execution_count": 0,
      "outputs": []
    },
    {
      "cell_type": "code",
      "metadata": {
        "id": "vWnLccEfgKbH",
        "colab_type": "code",
        "colab": {}
      },
      "source": [
        "X_train = X_train.reshape(X_train.shape[0], X_train.shape[1], 1)\n",
        "X_test = X_test.reshape(X_test.shape[0], X_test.shape[1], 1)"
      ],
      "execution_count": 0,
      "outputs": []
    },
    {
      "cell_type": "code",
      "metadata": {
        "id": "RONgsKL5gkqQ",
        "colab_type": "code",
        "colab": {
          "base_uri": "https://localhost:8080/",
          "height": 717
        },
        "outputId": "4127a0d4-388b-4d80-f696-ad8980efbe0d"
      },
      "source": [
        "history = model.fit(X_train, Y_train,\n",
        "          batch_size=64,\n",
        "          epochs=20)"
      ],
      "execution_count": 492,
      "outputs": [
        {
          "output_type": "stream",
          "text": [
            "Epoch 1/20\n",
            "109242/109242 [==============================] - 28s 258us/step - loss: 1.1014 - acc: 0.5725 - f1_m: 0.5007 - precision_m: 0.6125 - recall_m: 0.4290\n",
            "Epoch 2/20\n",
            "109242/109242 [==============================] - 26s 242us/step - loss: 0.9852 - acc: 0.6184 - f1_m: 0.5855 - precision_m: 0.6715 - recall_m: 0.5203\n",
            "Epoch 3/20\n",
            "109242/109242 [==============================] - 26s 242us/step - loss: 0.9505 - acc: 0.6352 - f1_m: 0.6050 - precision_m: 0.6830 - recall_m: 0.5442\n",
            "Epoch 4/20\n",
            "109242/109242 [==============================] - 27s 245us/step - loss: 0.9284 - acc: 0.6460 - f1_m: 0.6189 - precision_m: 0.6896 - recall_m: 0.5624\n",
            "Epoch 5/20\n",
            "109242/109242 [==============================] - 27s 245us/step - loss: 0.9125 - acc: 0.6518 - f1_m: 0.6288 - precision_m: 0.6941 - recall_m: 0.5757\n",
            "Epoch 6/20\n",
            "109242/109242 [==============================] - 27s 245us/step - loss: 0.8970 - acc: 0.6600 - f1_m: 0.6394 - precision_m: 0.6986 - recall_m: 0.5904\n",
            "Epoch 7/20\n",
            "109242/109242 [==============================] - 26s 241us/step - loss: 0.8861 - acc: 0.6645 - f1_m: 0.6455 - precision_m: 0.7003 - recall_m: 0.5994\n",
            "Epoch 8/20\n",
            "109242/109242 [==============================] - 26s 242us/step - loss: 0.8766 - acc: 0.6683 - f1_m: 0.6513 - precision_m: 0.7030 - recall_m: 0.6074\n",
            "Epoch 9/20\n",
            "109242/109242 [==============================] - 26s 242us/step - loss: 0.8677 - acc: 0.6720 - f1_m: 0.6572 - precision_m: 0.7052 - recall_m: 0.6160\n",
            "Epoch 10/20\n",
            "109242/109242 [==============================] - 27s 243us/step - loss: 0.8593 - acc: 0.6759 - f1_m: 0.6609 - precision_m: 0.7076 - recall_m: 0.6207\n",
            "Epoch 11/20\n",
            "109242/109242 [==============================] - 26s 242us/step - loss: 0.8538 - acc: 0.6792 - f1_m: 0.6648 - precision_m: 0.7102 - recall_m: 0.6255\n",
            "Epoch 12/20\n",
            "109242/109242 [==============================] - 27s 243us/step - loss: 0.8480 - acc: 0.6802 - f1_m: 0.6668 - precision_m: 0.7105 - recall_m: 0.6287\n",
            "Epoch 13/20\n",
            "109242/109242 [==============================] - 26s 242us/step - loss: 0.8429 - acc: 0.6828 - f1_m: 0.6700 - precision_m: 0.7116 - recall_m: 0.6335\n",
            "Epoch 14/20\n",
            "109242/109242 [==============================] - 27s 244us/step - loss: 0.8378 - acc: 0.6854 - f1_m: 0.6735 - precision_m: 0.7140 - recall_m: 0.6380\n",
            "Epoch 15/20\n",
            "109242/109242 [==============================] - 27s 243us/step - loss: 0.8336 - acc: 0.6871 - f1_m: 0.6752 - precision_m: 0.7153 - recall_m: 0.6399\n",
            "Epoch 16/20\n",
            "109242/109242 [==============================] - 27s 250us/step - loss: 0.8300 - acc: 0.6889 - f1_m: 0.6778 - precision_m: 0.7165 - recall_m: 0.6437\n",
            "Epoch 17/20\n",
            "109242/109242 [==============================] - 27s 249us/step - loss: 0.8270 - acc: 0.6895 - f1_m: 0.6780 - precision_m: 0.7164 - recall_m: 0.6441\n",
            "Epoch 18/20\n",
            "109242/109242 [==============================] - 27s 247us/step - loss: 0.8236 - acc: 0.6906 - f1_m: 0.6800 - precision_m: 0.7173 - recall_m: 0.6468\n",
            "Epoch 19/20\n",
            "109242/109242 [==============================] - 27s 248us/step - loss: 0.8208 - acc: 0.6925 - f1_m: 0.6821 - precision_m: 0.7186 - recall_m: 0.6496\n",
            "Epoch 20/20\n",
            "109242/109242 [==============================] - 27s 248us/step - loss: 0.8185 - acc: 0.6932 - f1_m: 0.6823 - precision_m: 0.7190 - recall_m: 0.6497\n"
          ],
          "name": "stdout"
        }
      ]
    },
    {
      "cell_type": "code",
      "metadata": {
        "id": "RgFe-eqK3eeL",
        "colab_type": "code",
        "colab": {
          "base_uri": "https://localhost:8080/",
          "height": 489
        },
        "outputId": "43eb7a0c-c1f9-4710-daad-9cd23601c4da"
      },
      "source": [
        "print(history.history.keys())\n",
        "plt.xticks([1,3,5,7,9,11,13,15,17,19,20])\n",
        "plt.plot(history.history['loss'])\n",
        "plt.plot(history.history['acc'])\n",
        "plt.plot(history.history['f1_m'])\n",
        "plt.plot(history.history['precision_m'])\n",
        "plt.plot(history.history['recall_m'])\n",
        "plt.title('Training of model')\n",
        "plt.ylabel('accuracy')\n",
        "plt.xlabel('epoch')\n",
        "plt.legend(['Loss', 'Accuracy','F1 Score','Precision','Recall'], loc='upper right')\n",
        "plt.show()"
      ],
      "execution_count": 493,
      "outputs": [
        {
          "output_type": "stream",
          "text": [
            "dict_keys(['loss', 'acc', 'f1_m', 'precision_m', 'recall_m'])\n"
          ],
          "name": "stdout"
        },
        {
          "output_type": "display_data",
          "data": {
            "image/png": "[encoded data removed]",
            "text/plain": [
              "<Figure size 640x480 with 1 Axes>"
            ]
          },
          "metadata": {
            "tags": []
          }
        }
      ]
    },
    {
      "cell_type": "code",
      "metadata": {
        "id": "9bCUq7F_rtg4",
        "colab_type": "code",
        "colab": {}
      },
      "source": [
        "model.save('1104361_1dconv_reg.h5')"
      ],
      "execution_count": 0,
      "outputs": []
    },
    {
      "cell_type": "code",
      "metadata": {
        "id": "i5XHJbvJt3ZH",
        "colab_type": "code",
        "colab": {}
      },
      "source": [
        "import keras\n",
        "model.save('1104361_1dconv_reg.h5')\n",
        "\n",
        "# Recreate the exact same model purely from the file\n",
        "model = load_model('1104361_1dconv_reg.h5', \n",
        "                   custom_objects = {'f1_m': f1_m,  'precision_m': precision_m, 'recall_m' : recall_m})"
      ],
      "execution_count": 0,
      "outputs": []
    },
    {
      "cell_type": "code",
      "metadata": {
        "id": "wxguJtYR9eZ_",
        "colab_type": "code",
        "colab": {
          "base_uri": "https://localhost:8080/",
          "height": 102
        },
        "outputId": "5e1ae13c-3edf-4809-ed96-ade5db733d1f"
      },
      "source": [
        "score = model.evaluate(X_test, Y_test, batch_size=batch_size, verbose=0)\n",
        "print('Test loss:', score[0])\n",
        "print('Test accuracy:', score[1])\n",
        "print('F1 Score:', score[2])\n",
        "print('Precision:', score[3])\n",
        "print('Recall:', score[4])\n"
      ],
      "execution_count": 496,
      "outputs": [
        {
          "output_type": "stream",
          "text": [
            "Test loss: 0.9958740427216103\n",
            "Test accuracy: 0.6378102439360085\n",
            "F1 Score: 0.6214846309075989\n",
            "Precision: 0.6596687935546389\n",
            "Recall: 0.5880003417641774\n"
          ],
          "name": "stdout"
        }
      ]
    }
  ]
}